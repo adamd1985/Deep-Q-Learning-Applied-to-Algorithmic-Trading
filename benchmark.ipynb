{
 "cells": [
  {
   "cell_type": "markdown",
   "id": "00287223",
   "metadata": {
    "papermill": {
     "duration": 0.003867,
     "end_time": "2024-09-17T19:46:45.026500",
     "exception": false,
     "start_time": "2024-09-17T19:46:45.022633",
     "status": "completed"
    },
    "tags": []
   },
   "source": [
    "# Benchmark Paper Experiment\n",
    "```BibTeX\n",
    "@article{theate2021application,\n",
    "  title={An application of deep reinforcement learning to algorithmic trading},\n",
    "  author={Th{\\'e}ate, Thibaut and Ernst, Damien},\n",
    "  journal={Expert Systems with Applications},\n",
    "  volume={173},\n",
    "  pages={114632},\n",
    "  year={2021},\n",
    "  publisher={Elsevier}\n",
    "}\n",
    "```"
   ]
  },
  {
   "cell_type": "markdown",
   "id": "aaec9b2a",
   "metadata": {
    "papermill": {
     "duration": 0.002952,
     "end_time": "2024-09-17T19:46:45.032876",
     "exception": false,
     "start_time": "2024-09-17T19:46:45.029924",
     "status": "completed"
    },
    "tags": []
   },
   "source": [
    "## Setup Notebook"
   ]
  },
  {
   "cell_type": "code",
   "execution_count": 1,
   "id": "fbe0441b",
   "metadata": {
    "execution": {
     "iopub.execute_input": "2024-09-17T19:46:45.040910Z",
     "iopub.status.busy": "2024-09-17T19:46:45.040515Z",
     "iopub.status.idle": "2024-09-17T19:46:45.794960Z",
     "shell.execute_reply": "2024-09-17T19:46:45.794012Z"
    },
    "papermill": {
     "duration": 0.761376,
     "end_time": "2024-09-17T19:46:45.797391",
     "exception": false,
     "start_time": "2024-09-17T19:46:45.036015",
     "status": "completed"
    },
    "tags": []
   },
   "outputs": [],
   "source": [
    "import os\n",
    "import pandas as pd\n",
    "import numpy as np\n",
    "import warnings\n",
    "import sys\n",
    "from tqdm import tqdm\n",
    "warnings.filterwarnings(\"ignore\")"
   ]
  },
  {
   "cell_type": "code",
   "execution_count": 2,
   "id": "8f641239",
   "metadata": {
    "execution": {
     "iopub.execute_input": "2024-09-17T19:46:45.805665Z",
     "iopub.status.busy": "2024-09-17T19:46:45.805188Z",
     "iopub.status.idle": "2024-09-17T19:47:21.251450Z",
     "shell.execute_reply": "2024-09-17T19:47:21.250205Z"
    },
    "papermill": {
     "duration": 35.45305,
     "end_time": "2024-09-17T19:47:21.253997",
     "exception": false,
     "start_time": "2024-09-17T19:46:45.800947",
     "status": "completed"
    },
    "tags": []
   },
   "outputs": [],
   "source": [
    "%%capture\n",
    "# Silence the installation\n",
    "\n",
    "INSTALL_DEPS = True\n",
    "if INSTALL_DEPS:\n",
    "    # If Kaggle or Colab, you have to manage these. If local, install requirements.txt\n",
    "    %pip install yfinance==0.2.43\n",
    "    # %pip install scipy==1.14.1\n",
    "    # %pip install statsmodels==0.14.2\n",
    "    # %pip install tabulate==0.9.0\n",
    "    # %pip install torch==2.4.1\n",
    "    # %pip install tqdm==4.66.5\n",
    "    # %pip install gym==0.26.1\n",
    "    # %pip install numpy==2.1.1\n",
    "    # %pip install pandas==2.2.2\n",
    "\n",
    "IN_KAGGLE = IN_COLAB = False\n",
    "try:\n",
    "    # https://www.tensorflow.org/install/pip#windows-wsl2\n",
    "    import google.colab\n",
    "    from google.colab import drive\n",
    "\n",
    "    drive.mount(\"/content/drive\")\n",
    "    DATA_PATH = \"/drive/input/drl-dataset-quant\"\n",
    "    IN_COLAB = True\n",
    "    print(\"Colab!\")\n",
    "except:\n",
    "    IN_COLAB = False\n",
    "if \"KAGGLE_KERNEL_RUN_TYPE\" in os.environ and not IN_COLAB:\n",
    "    print(\"Running in Kaggle...\")\n",
    "    for dirname, _, filenames in os.walk(\"/kaggle/input\"):\n",
    "        for filename in filenames:\n",
    "            print(os.path.join(dirname, filename))\n",
    "    DATA_PATH = \"/kaggle/input/drl-dataset-quant\"\n",
    "    sys.path.insert(1, \"/kaggle/usr/lib/drlutil\")\n",
    "    IN_KAGGLE = True\n",
    "    print(\"Kaggle!\")\n",
    "elif not IN_COLAB:\n",
    "    IN_KAGGLE = False\n",
    "    DATA_PATH = \"./data/\"\n",
    "    print(\"running localhost!\")"
   ]
  },
  {
   "cell_type": "code",
   "execution_count": 3,
   "id": "2b443013",
   "metadata": {
    "execution": {
     "iopub.execute_input": "2024-09-17T19:47:21.262482Z",
     "iopub.status.busy": "2024-09-17T19:47:21.262143Z",
     "iopub.status.idle": "2024-09-17T19:47:38.568442Z",
     "shell.execute_reply": "2024-09-17T19:47:38.567533Z"
    },
    "papermill": {
     "duration": 17.313164,
     "end_time": "2024-09-17T19:47:38.570820",
     "exception": false,
     "start_time": "2024-09-17T19:47:21.257656",
     "status": "completed"
    },
    "tags": []
   },
   "outputs": [],
   "source": [
    "from drlutil import TradingSimulator, PerformanceEstimator"
   ]
  },
  {
   "cell_type": "markdown",
   "id": "4f7e25ee",
   "metadata": {
    "papermill": {
     "duration": 0.003224,
     "end_time": "2024-09-17T19:47:38.577706",
     "exception": false,
     "start_time": "2024-09-17T19:47:38.574482",
     "status": "completed"
    },
    "tags": []
   },
   "source": [
    "## Experiment Parameters"
   ]
  },
  {
   "cell_type": "code",
   "execution_count": 4,
   "id": "e005d157",
   "metadata": {
    "execution": {
     "iopub.execute_input": "2024-09-17T19:47:38.586408Z",
     "iopub.status.busy": "2024-09-17T19:47:38.585565Z",
     "iopub.status.idle": "2024-09-17T19:47:38.593249Z",
     "shell.execute_reply": "2024-09-17T19:47:38.592110Z"
    },
    "papermill": {
     "duration": 0.014079,
     "end_time": "2024-09-17T19:47:38.595230",
     "exception": false,
     "start_time": "2024-09-17T19:47:38.581151",
     "status": "completed"
    },
    "tags": []
   },
   "outputs": [
    {
     "name": "stdout",
     "output_type": "stream",
     "text": [
      "117\n"
     ]
    }
   ],
   "source": [
    "simulator = TradingSimulator()\n",
    "strategy = \"TDQN\"\n",
    "stock = \"Tesla\"\n",
    "\n",
    "features=['Close', 'Low', 'High', 'Volume']\n",
    "money=100000.\n",
    "stateLength = 30\n",
    "observationSpace = 1 + ((stateLength- 1)*len(features))\n",
    "actionSpace = 2\n",
    "bounds = [1, 30]\n",
    "step = 1\n",
    "numberOfEpisodes = 50\n",
    "startingDate = '2012-1-1'\n",
    "endingDate = '2020-1-1'\n",
    "splitingDate = '2018-1-1'\n",
    "percentageCosts = [0, 0.1, 0.2]\n",
    "transactionCosts = percentageCosts[1]/100\n",
    "\n",
    "\n",
    "print(observationSpace)"
   ]
  },
  {
   "cell_type": "markdown",
   "id": "f003f45b",
   "metadata": {
    "papermill": {
     "duration": 0.003275,
     "end_time": "2024-09-17T19:47:38.601951",
     "exception": false,
     "start_time": "2024-09-17T19:47:38.598676",
     "status": "completed"
    },
    "tags": []
   },
   "source": [
    "# Run Experiments"
   ]
  },
  {
   "cell_type": "markdown",
   "id": "1514b0d0",
   "metadata": {
    "papermill": {
     "duration": 0.003219,
     "end_time": "2024-09-17T19:47:38.608658",
     "exception": false,
     "start_time": "2024-09-17T19:47:38.605439",
     "status": "completed"
    },
    "tags": []
   },
   "source": [
    "## Test Selected Stock and Strategy"
   ]
  },
  {
   "cell_type": "code",
   "execution_count": 5,
   "id": "44599fb2",
   "metadata": {
    "execution": {
     "iopub.execute_input": "2024-09-17T19:47:38.617028Z",
     "iopub.status.busy": "2024-09-17T19:47:38.616349Z",
     "iopub.status.idle": "2024-09-17T20:07:13.436626Z",
     "shell.execute_reply": "2024-09-17T20:07:13.435748Z"
    },
    "papermill": {
     "duration": 1174.827124,
     "end_time": "2024-09-17T20:07:13.439225",
     "exception": false,
     "start_time": "2024-09-17T19:47:38.612101",
     "status": "completed"
    },
    "tags": []
   },
   "outputs": [],
   "source": [
    "N_EXPERIMENTS = 20\n",
    "train_results = []\n",
    "test_results = []\n",
    "for i in tqdm(range(N_EXPERIMENTS)):\n",
    "    strat, train_env, test_env = simulator.simulateNewStrategy(strategy,\n",
    "                                                            stock,\n",
    "                                                            startingDate=startingDate,\n",
    "                                                            endingDate=endingDate,\n",
    "                                                            splitingDate=splitingDate,\n",
    "                                                            verbose=False,\n",
    "                                                            plotTraining=False,\n",
    "                                                            rendering=False,\n",
    "                                                            showPerformance=False,\n",
    "                                                            saveStrategy=False,\n",
    "                                                            savePlots=False,\n",
    "                                                            data_dir=DATA_PATH,\n",
    "                                                            money=money,\n",
    "                                                            observationSpace=observationSpace,\n",
    "                                                            actionSpace=actionSpace,\n",
    "                                                            stateLength=stateLength,\n",
    "                                                            bounds=bounds,\n",
    "                                                            step=step,\n",
    "                                                            numberOfEpisodes=numberOfEpisodes,\n",
    "                                                            transactionCosts=transactionCosts,\n",
    "                                                            features=features)\n",
    "    analyser = PerformanceEstimator(train_env.data)\n",
    "    train_results.append(analyser.getComputedPerformance())\n",
    "    analyser = PerformanceEstimator(test_env.data)\n",
    "    test_results.append(analyser.getComputedPerformance())\n"
   ]
  },
  {
   "cell_type": "code",
   "execution_count": 10,
   "id": "91cd6dbc",
   "metadata": {},
   "outputs": [
    {
     "data": {
      "text/html": [
       "<div>\n",
       "<style scoped>\n",
       "    .dataframe tbody tr th:only-of-type {\n",
       "        vertical-align: middle;\n",
       "    }\n",
       "\n",
       "    .dataframe tbody tr th {\n",
       "        vertical-align: top;\n",
       "    }\n",
       "\n",
       "    .dataframe thead th {\n",
       "        text-align: right;\n",
       "    }\n",
       "</style>\n",
       "<table border=\"1\" class=\"dataframe\">\n",
       "  <thead>\n",
       "    <tr style=\"text-align: right;\">\n",
       "      <th></th>\n",
       "      <th>Metric</th>\n",
       "      <th>Value</th>\n",
       "    </tr>\n",
       "  </thead>\n",
       "  <tbody>\n",
       "    <tr>\n",
       "      <th>0</th>\n",
       "      <td>PnL</td>\n",
       "      <td>-61082.509364</td>\n",
       "    </tr>\n",
       "    <tr>\n",
       "      <th>1</th>\n",
       "      <td>Annualized Return</td>\n",
       "      <td>-0.409402</td>\n",
       "    </tr>\n",
       "    <tr>\n",
       "      <th>2</th>\n",
       "      <td>Annualized Volatility</td>\n",
       "      <td>0.536750</td>\n",
       "    </tr>\n",
       "    <tr>\n",
       "      <th>3</th>\n",
       "      <td>Sharpe Ratio</td>\n",
       "      <td>-0.606873</td>\n",
       "    </tr>\n",
       "    <tr>\n",
       "      <th>4</th>\n",
       "      <td>Sortino Ratio</td>\n",
       "      <td>-0.755193</td>\n",
       "    </tr>\n",
       "    <tr>\n",
       "      <th>5</th>\n",
       "      <td>Max Drawdown</td>\n",
       "      <td>0.722726</td>\n",
       "    </tr>\n",
       "    <tr>\n",
       "      <th>6</th>\n",
       "      <td>Max Drawdown Duration (days)</td>\n",
       "      <td>229.000000</td>\n",
       "    </tr>\n",
       "    <tr>\n",
       "      <th>7</th>\n",
       "      <td>Profitability</td>\n",
       "      <td>0.469178</td>\n",
       "    </tr>\n",
       "    <tr>\n",
       "      <th>8</th>\n",
       "      <td>Avg Profit/Loss Ratio</td>\n",
       "      <td>0.868214</td>\n",
       "    </tr>\n",
       "    <tr>\n",
       "      <th>9</th>\n",
       "      <td>Skewness</td>\n",
       "      <td>-0.608432</td>\n",
       "    </tr>\n",
       "  </tbody>\n",
       "</table>\n",
       "</div>"
      ],
      "text/plain": [
       "                         Metric         Value\n",
       "0                           PnL -61082.509364\n",
       "1             Annualized Return     -0.409402\n",
       "2         Annualized Volatility      0.536750\n",
       "3                  Sharpe Ratio     -0.606873\n",
       "4                 Sortino Ratio     -0.755193\n",
       "5                  Max Drawdown      0.722726\n",
       "6  Max Drawdown Duration (days)    229.000000\n",
       "7                 Profitability      0.469178\n",
       "8         Avg Profit/Loss Ratio      0.868214\n",
       "9                      Skewness     -0.608432"
      ]
     },
     "execution_count": 10,
     "metadata": {},
     "output_type": "execute_result"
    }
   ],
   "source": [
    "test_results[-1]"
   ]
  },
  {
   "cell_type": "code",
   "execution_count": null,
   "id": "79c4b33b",
   "metadata": {},
   "outputs": [],
   "source": [
    "import pickle\n",
    "\n",
    "# Assuming df_list is your list of DataFrames\n",
    "with open('train_results.pkl', 'wb') as f:\n",
    "    pickle.dump(train_results, f)\n",
    "with open('test_results.pkl', 'wb') as f:\n",
    "    pickle.dump(test_results, f)\n",
    "\n"
   ]
  },
  {
   "cell_type": "markdown",
   "id": "3dd1ec21",
   "metadata": {
    "papermill": {
     "duration": 0.014002,
     "end_time": "2024-09-17T20:07:13.467525",
     "exception": false,
     "start_time": "2024-09-17T20:07:13.453523",
     "status": "completed"
    },
    "tags": []
   },
   "source": [
    "# Benchmark Experiment Results"
   ]
  },
  {
   "cell_type": "markdown",
   "id": "3de85248",
   "metadata": {
    "papermill": {
     "duration": 0.013737,
     "end_time": "2024-09-17T20:07:13.495212",
     "exception": false,
     "start_time": "2024-09-17T20:07:13.481475",
     "status": "completed"
    },
    "tags": []
   },
   "source": [
    "| Performance Indicator           | Training  | Testing  | B&H      | S&H      | TF      | MR      | TDQN    |\n",
    "|----------------------------------|-----------|----------|----------|----------|---------|---------|---------|\n",
    "| Profit & Loss (P&L)              | 11686926  | -9801    | 29847    | -29847   | 73301   | 8600    | 98      |\n",
    "| Annualized Return                | 36.25%    | 8.03%    | 24.11%   | -7.38%   | 100.00% | 19.02%  | 12.80%  |\n",
    "| Annualized Volatility            | 45.32%    | 51.64%   | 53.14%   | 46.11%   | 52.70%  | 58.05%  | 52.09%  |\n",
    "| Sharpe Ratio                     | 1.983     | 0.162    | 0.508    | -0.154   | 0.987   | 0.358   | 0.261   |\n",
    "| Sortino Ratio                    | 3.196     | 0.204    | 0.741    | -0.205   | 1.229   | 0.539   | 0.359   |\n",
    "| Maximum Drawdown                 | 15.31%    | 60.36%   | 52.83%   | 54.09%   | 79.91%  | 65.31%  | 58.95%  |\n",
    "| Maximum Drawdown Duration        | 47 days   | 95 days  | 205 days | 144 days | 229 days| 159 days| 331 days|\n",
    "| Profitability                    | 54.82%    | 46.38%   | 100.00%  | 0.00%    | 34.38%  | 67.65%  | 38.18%  |\n",
    "| Ratio Average Profit/Loss        | 3.082     | 1.112    | ∞        | 0.00     | 0.534   | 0.496   | 1.621   |\n",
    "\n",
    "Training time: 19:08mins\n"
   ]
  }
 ],
 "metadata": {
  "kaggle": {
   "accelerator": "gpu",
   "dataSources": [
    {
     "datasetId": 5722911,
     "sourceId": 9421991,
     "sourceType": "datasetVersion"
    },
    {
     "sourceId": 197060811,
     "sourceType": "kernelVersion"
    }
   ],
   "isGpuEnabled": true,
   "isInternetEnabled": true,
   "language": "python",
   "sourceType": "notebook"
  },
  "kernelspec": {
   "display_name": "drl_aug",
   "language": "python",
   "name": "python3"
  },
  "language_info": {
   "codemirror_mode": {
    "name": "ipython",
    "version": 3
   },
   "file_extension": ".py",
   "mimetype": "text/x-python",
   "name": "python",
   "nbconvert_exporter": "python",
   "pygments_lexer": "ipython3",
   "version": "3.10.14"
  },
  "papermill": {
   "default_parameters": {},
   "duration": 1234.187031,
   "end_time": "2024-09-17T20:07:16.406924",
   "environment_variables": {},
   "exception": null,
   "input_path": "__notebook__.ipynb",
   "output_path": "__notebook__.ipynb",
   "parameters": {},
   "start_time": "2024-09-17T19:46:42.219893",
   "version": "2.6.0"
  }
 },
 "nbformat": 4,
 "nbformat_minor": 5
}
