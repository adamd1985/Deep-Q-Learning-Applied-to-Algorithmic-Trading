{
 "cells": [
  {
   "cell_type": "code",
   "execution_count": 1,
   "metadata": {},
   "outputs": [],
   "source": [
    "# Import necessary modules\n",
    "import os\n",
    "from tradingEnv import TradingEnv\n",
    "from tradingSimulator import TradingSimulator\n",
    "from tradingPerformance import PerformanceEstimator\n",
    "from classicalStrategy import tradingStrategy\n",
    "from dataAugmentation import DataAugmentation\n",
    "from dataDownloader import YahooFinance\n",
    "from fictiveStockGenerator import StockGenerator\n",
    "from timeSeriesAnalyser import TimeSeriesAnalyser\n",
    "from TDQN import TDQN\n",
    "\n",
    "import matplotlib.pyplot as plt\n"
   ]
  },
  {
   "cell_type": "code",
   "execution_count": null,
   "metadata": {},
   "outputs": [],
   "source": [
    "# Define the required parameters\n",
    "startingDate = '2012-1-1'\n",
    "endingDate = '2020-1-1'\n",
    "splitingDate = '2018-1-1'\n",
    "observationSpace = 50\n",
    "actionSpace = 3\n",
    "money = 100000\n",
    "stateLength = 20\n",
    "transactionCosts = 0.001\n",
    "bounds = (0.1, 0.9)\n",
    "step = 1\n",
    "numberOfEpisodes = 1000\n",
    "\n",
    "simulator = TradingSimulator()\n",
    "simulator.simulateNewStrategy('TDQN', 'Tesla',\n",
    "                              startingDate=startingDate, endingDate=endingDate, splitingDate=splitingDate,\n",
    "                              observationSpace=observationSpace, actionSpace=actionSpace,\n",
    "                              money=money, stateLength=stateLength, transactionCosts=transactionCosts,\n",
    "                              bounds=bounds, step=step, numberOfEpisodes=numberOfEpisodes,\n",
    "                              verbose=True, plotTraining=True, rendering=True, showPerformance=True,\n",
    "                              saveStrategy=False)\n"
   ]
  },
  {
   "cell_type": "code",
   "execution_count": null,
   "metadata": {},
   "outputs": [],
   "source": [
    "# Test the model\n",
    "simulator.test()\n"
   ]
  },
  {
   "cell_type": "code",
   "execution_count": null,
   "metadata": {},
   "outputs": [],
   "source": [
    "# Evaluate performance\n",
    "performance = TradingPerformance(env, simulator)\n",
    "performance.display_results()\n"
   ]
  },
  {
   "cell_type": "code",
   "execution_count": null,
   "metadata": {},
   "outputs": [],
   "source": [
    "# Plot performance\n",
    "performance.plot_performance()\n"
   ]
  }
 ],
 "metadata": {
  "kernelspec": {
   "display_name": "drl",
   "language": "python",
   "name": "python3"
  },
  "language_info": {
   "codemirror_mode": {
    "name": "ipython",
    "version": 3
   },
   "file_extension": ".py",
   "mimetype": "text/x-python",
   "name": "python",
   "nbconvert_exporter": "python",
   "pygments_lexer": "ipython3",
   "version": "3.10.14"
  }
 },
 "nbformat": 4,
 "nbformat_minor": 4
}
