{
 "cells": [
  {
   "cell_type": "code",
   "execution_count": 1,
   "metadata": {},
   "outputs": [],
   "source": [
    "import os\n",
    "from DRLUtil import TradingSimulator\n",
    "\n",
    "import matplotlib.pyplot as plt\n"
   ]
  },
  {
   "cell_type": "code",
   "execution_count": null,
   "metadata": {},
   "outputs": [],
   "source": [
    "simulator = TradingSimulator()\n",
    "strategy = \"TDQN\"\n",
    "stock = \"Tesla\"\n",
    "\n",
    "# Training and testing of the trading strategy specified for the stock (market) specified\n",
    "simulator.simulateNewStrategy(strategy, stock, saveStrategy=False)\n",
    "simulator.displayTestbench()\n",
    "simulator.analyseTimeSeries(stock)\n",
    "simulator.simulateNewStrategy(strategy, stock, saveStrategy=False)\n",
    "simulator.simulateExistingStrategy(strategy, stock)\n",
    "simulator.evaluateStrategy(strategy, saveStrategy=False)\n",
    "simulator.evaluateStock(stock)"
   ]
  }
 ],
 "metadata": {
  "kernelspec": {
   "display_name": "drl",
   "language": "python",
   "name": "python3"
  },
  "language_info": {
   "codemirror_mode": {
    "name": "ipython",
    "version": 3
   },
   "file_extension": ".py",
   "mimetype": "text/x-python",
   "name": "python",
   "nbconvert_exporter": "python",
   "pygments_lexer": "ipython3",
   "version": "3.10.14"
  }
 },
 "nbformat": 4,
 "nbformat_minor": 4
}
