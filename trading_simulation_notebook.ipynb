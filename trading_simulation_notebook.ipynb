{
 "cells": [
  {
   "cell_type": "code",
   "execution_count": 1,
   "metadata": {},
   "outputs": [],
   "source": [
    "# Import necessary modules\n",
    "import os\n",
    "from tradingEnv import TradingEnv\n",
    "from tradingSimulator import TradingSimulator\n",
    "from tradingPerformance import PerformanceEstimator\n",
    "from classicalStrategy import tradingStrategy\n",
    "from dataAugmentation import DataAugmentation\n",
    "from dataDownloader import YahooFinance\n",
    "from fictiveStockGenerator import StockGenerator\n",
    "from timeSeriesAnalyser import TimeSeriesAnalyser\n",
    "from TDQN import TDQN\n",
    "\n",
    "import matplotlib.pyplot as plt\n"
   ]
  },
  {
   "cell_type": "code",
   "execution_count": null,
   "metadata": {},
   "outputs": [],
   "source": [
    "simulator = TradingSimulator()\n",
    "strategy = \"TDQN\"\n",
    "stock = \"Tesla\"\n",
    "\n",
    "# Training and testing of the trading strategy specified for the stock (market) specified\n",
    "simulator.simulateNewStrategy(strategy, stock, saveStrategy=False)\n",
    "simulator.displayTestbench()\n",
    "simulator.analyseTimeSeries(stock)\n",
    "simulator.simulateNewStrategy(strategy, stock, saveStrategy=False)\n",
    "simulator.simulateExistingStrategy(strategy, stock)\n",
    "simulator.evaluateStrategy(strategy, saveStrategy=False)\n",
    "simulator.evaluateStock(stock)"
   ]
  }
 ],
 "metadata": {
  "kernelspec": {
   "display_name": "drl",
   "language": "python",
   "name": "python3"
  },
  "language_info": {
   "codemirror_mode": {
    "name": "ipython",
    "version": 3
   },
   "file_extension": ".py",
   "mimetype": "text/x-python",
   "name": "python",
   "nbconvert_exporter": "python",
   "pygments_lexer": "ipython3",
   "version": "3.10.14"
  }
 },
 "nbformat": 4,
 "nbformat_minor": 4
}
